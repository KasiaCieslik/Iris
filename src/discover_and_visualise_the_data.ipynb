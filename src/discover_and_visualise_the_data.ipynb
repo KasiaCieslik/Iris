{
 "cells": [
  {
   "cell_type": "code",
   "execution_count": 2,
   "metadata": {},
   "outputs": [],
   "source": [
    "import pandas as pd\n",
    "import matplotlib.pyplot as plt\n",
    "import seaborn as sns\n",
    "from visualization.utils import count_of_appointment, age_related_diseases \n",
    "from data_preprocessing.utils import preprocess_categorical_to_binary, change_age_range\n",
    "%matplotlib inline"
   ]
  },
  {
   "cell_type": "code",
   "execution_count": 3,
   "metadata": {},
   "outputs": [],
   "source": [
    "df = pd.read_csv('../data/raw/KaggleV2-May-2016.csv') "
   ]
  },
  {
   "cell_type": "markdown",
   "metadata": {},
   "source": [
    "#### ### sum appoitments \n",
    "appoitment_pro_person = df.PatientId.value_counts().reset_index().head(100)\n",
    "appoitment_pro_person['ind'] = appoitment_pro_person.index\n",
    "df['sum_appoitments'] = df.groupby('PatientId')['AppointmentID'].transform('count')\n",
    "df['sum_app_for_age'] = df.groupby('Age')['sum_appoitments'].transform('sum')\n",
    "\n",
    "\n",
    "count_of_appointment(plot_name = 'count_of_appointment_pro_person',x = appoitment_pro_person['ind'],y = appoitment_pro_person['PatientId'],xlabel = 'Next person',ylabel = 'Count of appointment',alpha=0.5)\n",
    "count_of_appointment(plot_name = 'dependence_of_visits_from_age_for_each_patient',x = df['Age'],y = df['sum_appoitments'],xlabel = 'Age',ylabel = 'Sum of appointment for each patient',alpha=0.005)\n",
    "count_of_appointment(plot_name = 'sum_of_visit_in_dependence_from_age',x = df['Age'],y = df['sum_app_for_age'],xlabel = 'Age',ylabel = 'Sum of appointment for every age',alpha=0.01)\n",
    "\n",
    "\"\"\"\n",
    "Age column\n",
    "- min is -1 what means that here we have some mistake\n",
    "- max value is 115. We can drop all values which are more then 100\"\"\"\n",
    "\n",
    "### Correlation for numeric values\n",
    "plt.figure(figsize=(20,15))\n",
    "sns.heatmap(df.corr())\n",
    "\n",
    "\"\"\"\n",
    "\n",
    "\n"
   ]
  },
  {
   "cell_type": "code",
   "execution_count": 10,
   "metadata": {},
   "outputs": [
    {
     "name": "stderr",
     "output_type": "stream",
     "text": [
      "/home/kasia/Python Projects/Medical-Appoitnment-No-Show/src/data_preprocessing/utils.py:58: SettingWithCopyWarning: \n",
      "A value is trying to be set on a copy of a slice from a DataFrame\n",
      "\n",
      "See the caveats in the documentation: https://pandas.pydata.org/pandas-docs/stable/user_guide/indexing.html#returning-a-view-versus-a-copy\n",
      "  X[col][X[col]<0]=0\n",
      "/home/kasia/Python Projects/Medical-Appoitnment-No-Show/src/data_preprocessing/utils.py:59: SettingWithCopyWarning: \n",
      "A value is trying to be set on a copy of a slice from a DataFrame\n",
      "\n",
      "See the caveats in the documentation: https://pandas.pydata.org/pandas-docs/stable/user_guide/indexing.html#returning-a-view-versus-a-copy\n",
      "  X[col][X[col]>95]=95\n"
     ]
    }
   ],
   "source": [
    "df = preprocess_categorical_to_binary(df)\n",
    "df = change_age_range(df)\n",
    "df_prep_corr = df.corr().abs()\n",
    "pd.options.display.max_rows = 100\n",
    "s = df_prep_corr.unstack()\n",
    "s = s.sort_values(kind=\"quicksort\",ascending=False)\n",
    "s = pd.DataFrame(s[s<1])[:20]\n",
    "s.to_csv('../reports/tables/correlation_with_data_change_to_numeric.csv')\n"
   ]
  },
  {
   "cell_type": "code",
   "execution_count": 26,
   "metadata": {},
   "outputs": [
    {
     "name": "stdout",
     "output_type": "stream",
     "text": [
      "No-show  Gender\n",
      "0        0         57246\n",
      "         1         30962\n",
      "1        0         14594\n",
      "         1          7725\n",
      "Name: Gender, dtype: int64\n",
      "0    0.796854\n",
      "1    0.800321\n",
      "Name: Gender, dtype: float64\n"
     ]
    },
    {
     "data": {
      "image/png": "[encoded data removed]",
      "text/plain": [
       "<Figure size 432x288 with 1 Axes>"
      ]
     },
     "metadata": {
      "needs_background": "light"
     },
     "output_type": "display_data"
    }
   ],
   "source": [
    "sns.countplot(x=\"Gender\", hue=\"No-show\", data=df)\n",
    "plt.savefig('../reports/figures/show_no_show_in_dependence_from_gender.png')\n",
    "#Show, No-Show\n",
    "print(df.groupby('No-show')['Gender'].value_counts())\n",
    "# Percentage of woman/man who don't go to doctor\n",
    "print(df.Gender[df['No-show']==0].value_counts()/df.Gender.value_counts())"
   ]
  },
  {
   "cell_type": "code",
   "execution_count": 23,
   "metadata": {},
   "outputs": [
    {
     "data": {
      "text/plain": [
       "0    0.796854\n",
       "1    0.430986\n",
       "Name: Gender, dtype: float64"
      ]
     },
     "execution_count": 23,
     "metadata": {},
     "output_type": "execute_result"
    }
   ],
   "source": []
  }
 ],
 "metadata": {
  "kernelspec": {
   "display_name": "Python 3",
   "language": "python",
   "name": "python3"
  },
  "language_info": {
   "codemirror_mode": {
    "name": "ipython",
    "version": 3
   },
   "file_extension": ".py",
   "mimetype": "text/x-python",
   "name": "python",
   "nbconvert_exporter": "python",
   "pygments_lexer": "ipython3",
   "version": "3.7.6"
  }
 },
 "nbformat": 4,
 "nbformat_minor": 4
}
