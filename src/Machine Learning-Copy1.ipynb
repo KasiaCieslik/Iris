{
 "cells": [
  {
   "cell_type": "code",
   "execution_count": 1,
   "metadata": {},
   "outputs": [],
   "source": [
    "import pandas as pd\n",
    "import matplotlib.pyplot as plt\n",
    "import numpy as np\n",
    "import seaborn as sns\n",
    "from sklearn import datasets\n",
    "import seaborn as sns\n",
    "from sklearn.model_selection import train_test_split\n",
    "from sklearn.model_selection import StratifiedShuffleSplit\n",
    "import random\n",
    "from sklearn.base import BaseEstimator, TransformerMixin\n",
    "from sklearn.pipeline import Pipeline\n",
    "from sklearn.pipeline import FeatureUnion\n",
    "from sklearn.preprocessing import StandardScaler\n",
    "%matplotlib inline\n"
   ]
  },
  {
   "cell_type": "code",
   "execution_count": 2,
   "metadata": {},
   "outputs": [
    {
     "data": {
      "text/plain": [
       "'0.21.3'"
      ]
     },
     "execution_count": 2,
     "metadata": {},
     "output_type": "execute_result"
    }
   ],
   "source": [
    "import sklearn\n",
    "sklearn.__version__"
   ]
  },
  {
   "cell_type": "code",
   "execution_count": 3,
   "metadata": {},
   "outputs": [],
   "source": [
    "df = pd.read_csv('..no show only numeric.csv')\n",
    "df1 = df.copy()"
   ]
  },
  {
   "cell_type": "code",
   "execution_count": 4,
   "metadata": {},
   "outputs": [
    {
     "data": {
      "text/html": [
       "<div>\n",
       "<style scoped>\n",
       "    .dataframe tbody tr th:only-of-type {\n",
       "        vertical-align: middle;\n",
       "    }\n",
       "\n",
       "    .dataframe tbody tr th {\n",
       "        vertical-align: top;\n",
       "    }\n",
       "\n",
       "    .dataframe thead th {\n",
       "        text-align: right;\n",
       "    }\n",
       "</style>\n",
       "<table border=\"1\" class=\"dataframe\">\n",
       "  <thead>\n",
       "    <tr style=\"text-align: right;\">\n",
       "      <th></th>\n",
       "      <th>ScheduledDay</th>\n",
       "      <th>AppointmentDay</th>\n",
       "      <th>Neighbourhood</th>\n",
       "      <th>SD_date</th>\n",
       "    </tr>\n",
       "  </thead>\n",
       "  <tbody>\n",
       "    <tr>\n",
       "      <td>0</td>\n",
       "      <td>2016-04-29 18:38:08+00:00</td>\n",
       "      <td>2016-04-29 00:00:00+00:00</td>\n",
       "      <td>JARDIM DA PENHA</td>\n",
       "      <td>2016-04-29 00:00:00+00:00</td>\n",
       "    </tr>\n",
       "    <tr>\n",
       "      <td>1</td>\n",
       "      <td>2016-04-29 16:08:27+00:00</td>\n",
       "      <td>2016-04-29 00:00:00+00:00</td>\n",
       "      <td>JARDIM DA PENHA</td>\n",
       "      <td>2016-04-29 00:00:00+00:00</td>\n",
       "    </tr>\n",
       "    <tr>\n",
       "      <td>2</td>\n",
       "      <td>2016-04-29 16:19:04+00:00</td>\n",
       "      <td>2016-04-29 00:00:00+00:00</td>\n",
       "      <td>MATA DA PRAIA</td>\n",
       "      <td>2016-04-29 00:00:00+00:00</td>\n",
       "    </tr>\n",
       "    <tr>\n",
       "      <td>3</td>\n",
       "      <td>2016-04-29 17:29:31+00:00</td>\n",
       "      <td>2016-04-29 00:00:00+00:00</td>\n",
       "      <td>PONTAL DE CAMBURI</td>\n",
       "      <td>2016-04-29 00:00:00+00:00</td>\n",
       "    </tr>\n",
       "    <tr>\n",
       "      <td>4</td>\n",
       "      <td>2016-04-29 16:07:23+00:00</td>\n",
       "      <td>2016-04-29 00:00:00+00:00</td>\n",
       "      <td>JARDIM DA PENHA</td>\n",
       "      <td>2016-04-29 00:00:00+00:00</td>\n",
       "    </tr>\n",
       "    <tr>\n",
       "      <td>...</td>\n",
       "      <td>...</td>\n",
       "      <td>...</td>\n",
       "      <td>...</td>\n",
       "      <td>...</td>\n",
       "    </tr>\n",
       "    <tr>\n",
       "      <td>110522</td>\n",
       "      <td>2016-05-03 09:15:35+00:00</td>\n",
       "      <td>2016-06-07 00:00:00+00:00</td>\n",
       "      <td>MARIA ORTIZ</td>\n",
       "      <td>2016-05-03 00:00:00+00:00</td>\n",
       "    </tr>\n",
       "    <tr>\n",
       "      <td>110523</td>\n",
       "      <td>2016-05-03 07:27:33+00:00</td>\n",
       "      <td>2016-06-07 00:00:00+00:00</td>\n",
       "      <td>MARIA ORTIZ</td>\n",
       "      <td>2016-05-03 00:00:00+00:00</td>\n",
       "    </tr>\n",
       "    <tr>\n",
       "      <td>110524</td>\n",
       "      <td>2016-04-27 16:03:52+00:00</td>\n",
       "      <td>2016-06-07 00:00:00+00:00</td>\n",
       "      <td>MARIA ORTIZ</td>\n",
       "      <td>2016-04-27 00:00:00+00:00</td>\n",
       "    </tr>\n",
       "    <tr>\n",
       "      <td>110525</td>\n",
       "      <td>2016-04-27 15:09:23+00:00</td>\n",
       "      <td>2016-06-07 00:00:00+00:00</td>\n",
       "      <td>MARIA ORTIZ</td>\n",
       "      <td>2016-04-27 00:00:00+00:00</td>\n",
       "    </tr>\n",
       "    <tr>\n",
       "      <td>110526</td>\n",
       "      <td>2016-04-27 13:30:56+00:00</td>\n",
       "      <td>2016-06-07 00:00:00+00:00</td>\n",
       "      <td>MARIA ORTIZ</td>\n",
       "      <td>2016-04-27 00:00:00+00:00</td>\n",
       "    </tr>\n",
       "  </tbody>\n",
       "</table>\n",
       "<p>110527 rows × 4 columns</p>\n",
       "</div>"
      ],
      "text/plain": [
       "                     ScheduledDay             AppointmentDay  \\\n",
       "0       2016-04-29 18:38:08+00:00  2016-04-29 00:00:00+00:00   \n",
       "1       2016-04-29 16:08:27+00:00  2016-04-29 00:00:00+00:00   \n",
       "2       2016-04-29 16:19:04+00:00  2016-04-29 00:00:00+00:00   \n",
       "3       2016-04-29 17:29:31+00:00  2016-04-29 00:00:00+00:00   \n",
       "4       2016-04-29 16:07:23+00:00  2016-04-29 00:00:00+00:00   \n",
       "...                           ...                        ...   \n",
       "110522  2016-05-03 09:15:35+00:00  2016-06-07 00:00:00+00:00   \n",
       "110523  2016-05-03 07:27:33+00:00  2016-06-07 00:00:00+00:00   \n",
       "110524  2016-04-27 16:03:52+00:00  2016-06-07 00:00:00+00:00   \n",
       "110525  2016-04-27 15:09:23+00:00  2016-06-07 00:00:00+00:00   \n",
       "110526  2016-04-27 13:30:56+00:00  2016-06-07 00:00:00+00:00   \n",
       "\n",
       "            Neighbourhood                    SD_date  \n",
       "0         JARDIM DA PENHA  2016-04-29 00:00:00+00:00  \n",
       "1         JARDIM DA PENHA  2016-04-29 00:00:00+00:00  \n",
       "2           MATA DA PRAIA  2016-04-29 00:00:00+00:00  \n",
       "3       PONTAL DE CAMBURI  2016-04-29 00:00:00+00:00  \n",
       "4         JARDIM DA PENHA  2016-04-29 00:00:00+00:00  \n",
       "...                   ...                        ...  \n",
       "110522        MARIA ORTIZ  2016-05-03 00:00:00+00:00  \n",
       "110523        MARIA ORTIZ  2016-05-03 00:00:00+00:00  \n",
       "110524        MARIA ORTIZ  2016-04-27 00:00:00+00:00  \n",
       "110525        MARIA ORTIZ  2016-04-27 00:00:00+00:00  \n",
       "110526        MARIA ORTIZ  2016-04-27 00:00:00+00:00  \n",
       "\n",
       "[110527 rows x 4 columns]"
      ]
     },
     "execution_count": 4,
     "metadata": {},
     "output_type": "execute_result"
    }
   ],
   "source": [
    "df1.select_dtypes('object')"
   ]
  },
  {
   "cell_type": "markdown",
   "metadata": {},
   "source": [
    "Summary after Data Visualization\n",
    "- Age less than 0 and more than 100 should be drop\n",
    "- days between where appoitment was earlier than schedule should be drop\n",
    "- Unnamed:0 can be drop\n",
    "- Appoitment ID is unique and can be use in index\n",
    "\n",
    "Data for split \n",
    "- we should avoid that we have the same person in train and test\n",
    "- comparision for diffrent train and test\n"
   ]
  },
  {
   "cell_type": "markdown",
   "metadata": {},
   "source": [
    "## Split train/test\n",
    "\n"
   ]
  },
  {
   "cell_type": "markdown",
   "metadata": {},
   "source": [
    "### whole set"
   ]
  },
  {
   "cell_type": "code",
   "execution_count": 5,
   "metadata": {},
   "outputs": [
    {
     "name": "stdout",
     "output_type": "stream",
     "text": [
      "Train set with attributes has 74053 rows and Test set has 36474 rows\n"
     ]
    }
   ],
   "source": [
    "X_train, X_test  = train_test_split(df,test_size=0.33,random_state=42,stratify = df['No-show'])\n",
    "\n",
    "\n",
    "print(f'Train set with attributes has {X_train.shape[0]} rows and Test set has {X_test.shape[0]} rows')"
   ]
  },
  {
   "cell_type": "markdown",
   "metadata": {},
   "source": [
    "### target set balance"
   ]
  },
  {
   "cell_type": "code",
   "execution_count": 6,
   "metadata": {},
   "outputs": [],
   "source": [
    "percent_YES_train = X_train['No-show'].value_counts()[1]/X_train['No-show'].value_counts().sum()\n",
    "percent_YES_test = X_test['No-show'].value_counts()[1]/X_test['No-show'].value_counts().sum()\n",
    "#print('We have ca. 20% YES and 80% NO in both sets')"
   ]
  },
  {
   "cell_type": "markdown",
   "metadata": {},
   "source": [
    "### gander balanced sets"
   ]
  },
  {
   "cell_type": "code",
   "execution_count": 7,
   "metadata": {},
   "outputs": [
    {
     "name": "stdout",
     "output_type": "stream",
     "text": [
      "Our train and test sets with attributes have 65% woman in both of them\n"
     ]
    },
    {
     "data": {
      "text/plain": [
       "0    65.0\n",
       "1    35.0\n",
       "Name: Gender, dtype: float64"
      ]
     },
     "execution_count": 7,
     "metadata": {},
     "output_type": "execute_result"
    }
   ],
   "source": [
    "X_train.Gender.value_counts()\n",
    "percent_Woman_train = round(X_train.Gender.value_counts()/X_train.Gender.value_counts().sum()*100)\n",
    "percent_Woman_test = round(X_test.Gender.value_counts()/X_test.Gender.value_counts().sum()*100)\n",
    "\n",
    "print('Our train and test sets with attributes have 65% woman in both of them')\n",
    "percent_Woman_train "
   ]
  },
  {
   "cell_type": "markdown",
   "metadata": {},
   "source": [
    "## stratified suffle split "
   ]
  },
  {
   "cell_type": "code",
   "execution_count": 8,
   "metadata": {},
   "outputs": [],
   "source": [
    "df_without_target = df.drop('No-show',axis=1)\n",
    "target = df['No-show']\n",
    "split = StratifiedShuffleSplit(n_splits=1,test_size=0.2,random_state=42)\n",
    "\n",
    "for train_index,test_index in split.split(df_without_target,target):\n",
    "    #print(\"TRAIN:\", train_index, \"TEST:\", test_index)\n",
    "    X_train_s, X_test_s = df1.iloc[train_index], df1.iloc[test_index]\n",
    "    y_train_s, y_test_s = target[train_index], target[test_index]"
   ]
  },
  {
   "cell_type": "markdown",
   "metadata": {},
   "source": [
    "## unique patients in train and test"
   ]
  },
  {
   "cell_type": "code",
   "execution_count": 9,
   "metadata": {},
   "outputs": [
    {
     "name": "stdout",
     "output_type": "stream",
     "text": [
      "[2.98724998e+13 5.58997777e+14 4.26296230e+12 ... 7.26331493e+13\n",
      " 9.96997666e+14 1.55766317e+13]\n",
      "[4.84616270e+14 4.17133365e+12 1.49593154e+13 ... 5.17878585e+13\n",
      " 2.39695957e+13 3.78677738e+13]\n"
     ]
    }
   ],
   "source": [
    "patient_list = df.PatientId.unique()\n",
    "print(patient_list)\n",
    "random.seed(42)\n",
    "np.random.shuffle(patient_list)\n",
    "\n",
    "print(patient_list)\n",
    "\n",
    "size_of_test = round(len(patient_list)*0.25)\n",
    "size_of_train = round(len(patient_list)*0.75)\n",
    "\n",
    "patient_train = patient_list[15575:]\n",
    "patient_test =  patient_list[:15575]\n",
    "\n",
    "train = df[df['PatientId'].isin(patient_train)]\n",
    "test = df[df['PatientId'].isin(patient_test)]\n"
   ]
  },
  {
   "cell_type": "markdown",
   "metadata": {},
   "source": [
    "### train-test split comparision"
   ]
  },
  {
   "cell_type": "code",
   "execution_count": 10,
   "metadata": {
    "scrolled": true
   },
   "outputs": [
    {
     "data": {
      "text/html": [
       "<div>\n",
       "<style scoped>\n",
       "    .dataframe tbody tr th:only-of-type {\n",
       "        vertical-align: middle;\n",
       "    }\n",
       "\n",
       "    .dataframe tbody tr th {\n",
       "        vertical-align: top;\n",
       "    }\n",
       "\n",
       "    .dataframe thead th {\n",
       "        text-align: right;\n",
       "    }\n",
       "</style>\n",
       "<table border=\"1\" class=\"dataframe\">\n",
       "  <thead>\n",
       "    <tr style=\"text-align: right;\">\n",
       "      <th></th>\n",
       "      <th>target_oberall</th>\n",
       "      <th>train_test_split_target_TRAIN</th>\n",
       "      <th>train_test_split_target_TEST</th>\n",
       "      <th>StratifiedShufflesplit_target_TRAIN</th>\n",
       "      <th>StratifiedShufflesplit-taget_TEST</th>\n",
       "      <th>UniquePatients_TRAIN</th>\n",
       "      <th>UniquePatients_TEST</th>\n",
       "    </tr>\n",
       "  </thead>\n",
       "  <tbody>\n",
       "    <tr>\n",
       "      <td>0</td>\n",
       "      <td>0.798067</td>\n",
       "      <td>0.798064</td>\n",
       "      <td>0.798075</td>\n",
       "      <td>0.798068</td>\n",
       "      <td>0.798064</td>\n",
       "      <td>0.797784</td>\n",
       "      <td>0.798915</td>\n",
       "    </tr>\n",
       "    <tr>\n",
       "      <td>1</td>\n",
       "      <td>0.201933</td>\n",
       "      <td>0.201936</td>\n",
       "      <td>0.201925</td>\n",
       "      <td>0.201932</td>\n",
       "      <td>0.201936</td>\n",
       "      <td>0.202216</td>\n",
       "      <td>0.201085</td>\n",
       "    </tr>\n",
       "  </tbody>\n",
       "</table>\n",
       "</div>"
      ],
      "text/plain": [
       "   target_oberall  train_test_split_target_TRAIN  \\\n",
       "0        0.798067                       0.798064   \n",
       "1        0.201933                       0.201936   \n",
       "\n",
       "   train_test_split_target_TEST  StratifiedShufflesplit_target_TRAIN  \\\n",
       "0                      0.798075                             0.798068   \n",
       "1                      0.201925                             0.201932   \n",
       "\n",
       "   StratifiedShufflesplit-taget_TEST  UniquePatients_TRAIN  \\\n",
       "0                           0.798064              0.797784   \n",
       "1                           0.201936              0.202216   \n",
       "\n",
       "   UniquePatients_TEST  \n",
       "0             0.798915  \n",
       "1             0.201085  "
      ]
     },
     "execution_count": 10,
     "metadata": {},
     "output_type": "execute_result"
    }
   ],
   "source": [
    "sampling_bias_comparision = pd.DataFrame()\n",
    "whole_set_gender = df.Gender.value_counts()/len(df1)\n",
    "sampling_bias_comparision['overall_gender'] = whole_set_gender\n",
    "\n",
    "sampling_bias_comparision_target = pd.DataFrame()\n",
    "sampling_bias_comparision_target['target_oberall'] = target.value_counts()/len(target)\n",
    "\n",
    "sampling_bias_comparision['train_test_split_gender_TRAIN'] = X_train.Gender.value_counts()/len(X_train)\n",
    "sampling_bias_comparision['train_test_split_gender_TEST'] = X_test.Gender.value_counts()/len(X_test)\n",
    "\n",
    "sampling_bias_comparision_target['train_test_split_target_TRAIN'] = X_train['No-show'].value_counts()/len(X_train['No-show'])\n",
    "sampling_bias_comparision_target['train_test_split_target_TEST'] = X_test['No-show'].value_counts()/len(X_test['No-show'])\n",
    "\n",
    "\n",
    "\n",
    "sampling_bias_comparision['StratifiedShufflesplit_TRAIN'] = X_train_s.Gender.value_counts()/len(X_train_s)\n",
    "sampling_bias_comparision['StratifiedShufflesplit_TEST'] = X_test_s.Gender.value_counts()/len(X_test_s)\n",
    "\n",
    "sampling_bias_comparision_target['StratifiedShufflesplit_target_TRAIN'] = y_train_s.value_counts()/len(y_train_s)\n",
    "sampling_bias_comparision_target['StratifiedShufflesplit-taget_TEST'] = y_test_s.value_counts()/len(y_test_s)\n",
    "\n",
    "sampling_bias_comparision_target['UniquePatients_TRAIN'] = train['No-show'].value_counts()/len(train)\n",
    "sampling_bias_comparision_target['UniquePatients_TEST'] = test['No-show'].value_counts()/len(test)\n",
    "\n",
    "sampling_bias_comparision_target"
   ]
  },
  {
   "cell_type": "code",
   "execution_count": 11,
   "metadata": {},
   "outputs": [],
   "source": [
    "# we will take train and test to do analysis. We use UniquePatientSplit to create this two datasets\n",
    "y_train=train['No-show']\n",
    "y_test =test['No-show']\n",
    "train = train.drop(['Unnamed: 0','No-show','Neighbourhood'],axis=1)\n",
    "test = test.drop(['Unnamed: 0','No-show','Neighbourhood'],axis=1)\n"
   ]
  },
  {
   "cell_type": "code",
   "execution_count": 12,
   "metadata": {},
   "outputs": [],
   "source": [
    "train1 = train.copy()"
   ]
  },
  {
   "cell_type": "markdown",
   "metadata": {},
   "source": [
    "# Pipeline"
   ]
  },
  {
   "cell_type": "code",
   "execution_count": 14,
   "metadata": {},
   "outputs": [
    {
     "name": "stderr",
     "output_type": "stream",
     "text": [
      "C:\\ProgramData\\Anaconda3\\lib\\site-packages\\ipykernel_launcher.py:78: SettingWithCopyWarning: \n",
      "A value is trying to be set on a copy of a slice from a DataFrame\n",
      "\n",
      "See the caveats in the documentation: http://pandas.pydata.org/pandas-docs/stable/user_guide/indexing.html#returning-a-view-versus-a-copy\n",
      "C:\\ProgramData\\Anaconda3\\lib\\site-packages\\ipykernel_launcher.py:79: SettingWithCopyWarning: \n",
      "A value is trying to be set on a copy of a slice from a DataFrame\n",
      "\n",
      "See the caveats in the documentation: http://pandas.pydata.org/pandas-docs/stable/user_guide/indexing.html#returning-a-view-versus-a-copy\n"
     ]
    }
   ],
   "source": [
    "#full pipeline\n",
    "full_pipeline = FeatureUnion(transformer_list=[\n",
    "    ('cat_pipeline',cat_pipeline),\n",
    "    ('num_pipeline',pipeline_num)\n",
    "])\n",
    "\n",
    "\n",
    "train_prep = full_pipeline.fit_transform(train)\n",
    "y_train = pd.factorize(y_train)[0]\n"
   ]
  },
  {
   "cell_type": "markdown",
   "metadata": {},
   "source": [
    "# Model"
   ]
  },
  {
   "cell_type": "code",
   "execution_count": null,
   "metadata": {},
   "outputs": [],
   "source": [
    "from sklearn.linear_model import LinearRegression\n",
    "from sklearn.model_selection import cross_val_score\n",
    "lin_reg = LinearRegression()\n",
    "scores = cross_val_score(lin_reg,train_prep,y_train[0],scoring='accuracy')"
   ]
  }
 ],
 "metadata": {
  "kernelspec": {
   "display_name": "Python 3",
   "language": "python",
   "name": "python3"
  },
  "language_info": {
   "codemirror_mode": {
    "name": "ipython",
    "version": 3
   },
   "file_extension": ".py",
   "mimetype": "text/x-python",
   "name": "python",
   "nbconvert_exporter": "python",
   "pygments_lexer": "ipython3",
   "version": "3.7.6"
  }
 },
 "nbformat": 4,
 "nbformat_minor": 4
}
