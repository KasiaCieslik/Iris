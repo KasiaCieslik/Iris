{
 "cells": [
  {
   "cell_type": "code",
   "execution_count": 1,
   "metadata": {},
   "outputs": [],
   "source": [
    "import pandas as pd\n",
    "import matplotlib.pyplot as plt\n",
    "import numpy as np\n",
    "import seaborn as sns\n",
    "from sklearn import datasets\n",
    "import seaborn as sns\n",
    "from sklearn.model_selection import train_test_split\n",
    "from sklearn.model_selection import StratifiedShuffleSplit\n",
    "import random\n",
    "from sklearn.base import BaseEstimator, TransformerMixin\n",
    "from sklearn.pipeline import Pipeline\n",
    "from sklearn.pipeline import FeatureUnion\n",
    "from sklearn.preprocessing import StandardScaler\n",
    "from sklearn.linear_model import SGDClassifier\n",
    "from sklearn.ensemble import RandomForestClassifier\n",
    "from sklearn.model_selection import cross_val_score\n",
    "from sklearn.metrics import classification_report,accuracy_score\n",
    "from sklearn.utils import resample\n",
    "\n",
    "from data_preprocessing.utils import preprocess_categorical_to_binary, change_age_range\n",
    "from models.utils import split_train_test_with_sklearn,prepare_for_modeling,downsampling\n",
    "%matplotlib inline\n"
   ]
  },
  {
   "cell_type": "code",
   "execution_count": 2,
   "metadata": {},
   "outputs": [
    {
     "name": "stderr",
     "output_type": "stream",
     "text": [
      "/home/kasia/Python Projects/Medical-Appoitnment-No-Show/src/data_preprocessing/utils.py:60: SettingWithCopyWarning: \n",
      "A value is trying to be set on a copy of a slice from a DataFrame\n",
      "\n",
      "See the caveats in the documentation: https://pandas.pydata.org/pandas-docs/stable/user_guide/indexing.html#returning-a-view-versus-a-copy\n",
      "  X[col][X[col]<0]=0\n",
      "/home/kasia/Python Projects/Medical-Appoitnment-No-Show/src/data_preprocessing/utils.py:61: SettingWithCopyWarning: \n",
      "A value is trying to be set on a copy of a slice from a DataFrame\n",
      "\n",
      "See the caveats in the documentation: https://pandas.pydata.org/pandas-docs/stable/user_guide/indexing.html#returning-a-view-versus-a-copy\n",
      "  X[col][X[col]>95]=95\n"
     ]
    }
   ],
   "source": [
    "df = pd.read_csv('../data/raw/KaggleV2-May-2016.csv')\n",
    "df = preprocess_categorical_to_binary(df)\n",
    "df = change_age_range(df)\n"
   ]
  },
  {
   "cell_type": "markdown",
   "metadata": {},
   "source": [
    "Summary after Data Visualization\n",
    "- Age less than 0 and more than 100 should be drop\n",
    "- days between where appoitment was earlier than schedule should be drop\n",
    "- Unnamed:0 can be drop\n",
    "- Appoitment ID is unique and can be use in index\n",
    "\n",
    "Data for split \n",
    "- we should avoid that we have the same person in train and test\n",
    "- comparision for diffrent train and test\n"
   ]
  },
  {
   "cell_type": "markdown",
   "metadata": {},
   "source": [
    "### First model without up/downsampling"
   ]
  },
  {
   "cell_type": "code",
   "execution_count": null,
   "metadata": {},
   "outputs": [],
   "source": [
    "train,test = split_train_test_with_sklearn(df)\n",
    "X_train,y_train = prepare_for_modeling(train)\n",
    "X_test,y_test = prepare_for_modeling(test)\n",
    "\n",
    "\n",
    "rfc_clf = RandomForestClassifier()\n",
    "\n",
    "rfc_clf.fit(X_train.values,y_train)\n",
    "p_train = rfc_clf.predict(X_train.values)\n",
    "print(classification_report(y_train,p_train))\n",
    "acc_score_train = accuracy_score(y_train,p_train) \n",
    "p_test = rfc_clf.predict(X_test)\n",
    "print(classification_report(y_test,p_test))\n",
    "acc_score_test = accuracy_score(y_test,p_test) \n",
    "\n",
    "a = pd.DataFrame(X_train.columns)\n",
    "a['fi'] = rfc_clf.feature_importances_\n",
    "a.sort_values(by='fi',ascending=False).iloc[:10]"
   ]
  },
  {
   "cell_type": "markdown",
   "metadata": {},
   "source": [
    "## Dataset downsampling"
   ]
  },
  {
   "cell_type": "code",
   "execution_count": null,
   "metadata": {},
   "outputs": [],
   "source": [
    "#Check if our dataset is balanced or not\n",
    "ratio = df['No-show'].value_counts()/df['No-show'].value_counts()[1]\n",
    "print('\"No\"/\"Yes\"-Ratio is equal to {}/{}'.format(round(ratio[0],2),ratio[1]))\n",
    "# here we can see that we have much more 'No' than 'Yes'"
   ]
  },
  {
   "cell_type": "code",
   "execution_count": null,
   "metadata": {},
   "outputs": [],
   "source": [
    "v0 = df[df[\"No-show\"]==0].sample(1000)\n",
    "v1 = df[df[\"No-show\"]==1].sample(1000)\n",
    "valid_df = pd.concat([v0,v1]) \n",
    "\n",
    "train_v = df[~df.index.isin(valid_df.index)]"
   ]
  },
  {
   "cell_type": "code",
   "execution_count": 3,
   "metadata": {},
   "outputs": [],
   "source": [
    "# Display new class counts\n",
    "#train_D['No-show'].value_counts().plot(kind='bar')\n",
    "df = downsampling(df,22319) \n",
    "train,test = split_train_test_with_sklearn(df)\n",
    "#train = downsampling(train,15020) \n",
    "#test = downsampling(test,7299) \n",
    "X_train,y_train = prepare_for_modeling(train)\n",
    "X_test,y_test = prepare_for_modeling(test)\n",
    "#with neptune.create_experiment(name='noshow-1', tags=['downsampled'], params={'abcd': 123}, upload_source_files='*.ipynb'):\n",
    "\n",
    "#Model\n",
    "rfc_clf = RandomForestClassifier()\n",
    "rfc_clf.fit(X_train,y_train)\n",
    "p_down = rfc_clf.predict(X_train)\n",
    "clf_report_train = classification_report(y_train,p_down)\n",
    "\n",
    "# How's our accuracy?\n",
    "acc_score_train = accuracy_score(y_train,p_down) \n",
    "\n",
    "p_test_down = rfc_clf.predict(X_test)\n",
    "clf_report_valid = classification_report(y_test,p_test_down)\n",
    "acc_score_test = accuracy_score(y_test,p_test_down) \n",
    "    #neptune.send_metric(\"acc_train\", acc_score)\n",
    "    #neptune.send_text('clf_report_valid', clf_report_valid)\n",
    "    \n",
    "  "
   ]
  },
  {
   "cell_type": "code",
   "execution_count": 4,
   "metadata": {},
   "outputs": [
    {
     "name": "stdout",
     "output_type": "stream",
     "text": [
      "test 0.37349806530446, train 0.8403718193065168\n"
     ]
    }
   ],
   "source": [
    "print(\"test {}, train {}\".format(acc_score_test,acc_score_train) )"
   ]
  },
  {
   "cell_type": "code",
   "execution_count": 7,
   "metadata": {},
   "outputs": [
    {
     "data": {
      "text/html": [
       "<div>\n",
       "<style scoped>\n",
       "    .dataframe tbody tr th:only-of-type {\n",
       "        vertical-align: middle;\n",
       "    }\n",
       "\n",
       "    .dataframe tbody tr th {\n",
       "        vertical-align: top;\n",
       "    }\n",
       "\n",
       "    .dataframe thead th {\n",
       "        text-align: right;\n",
       "    }\n",
       "</style>\n",
       "<table border=\"1\" class=\"dataframe\">\n",
       "  <thead>\n",
       "    <tr style=\"text-align: right;\">\n",
       "      <th></th>\n",
       "      <th>Gender</th>\n",
       "      <th>Age</th>\n",
       "      <th>Scholarship</th>\n",
       "      <th>Hipertension</th>\n",
       "      <th>Diabetes</th>\n",
       "      <th>Alcoholism</th>\n",
       "      <th>Handcap</th>\n",
       "      <th>SMS_received</th>\n",
       "      <th>DaysBetween</th>\n",
       "    </tr>\n",
       "  </thead>\n",
       "  <tbody>\n",
       "    <tr>\n",
       "      <th>42979</th>\n",
       "      <td>0</td>\n",
       "      <td>85</td>\n",
       "      <td>0</td>\n",
       "      <td>1</td>\n",
       "      <td>1</td>\n",
       "      <td>0</td>\n",
       "      <td>0</td>\n",
       "      <td>0</td>\n",
       "      <td>0</td>\n",
       "    </tr>\n",
       "    <tr>\n",
       "      <th>102322</th>\n",
       "      <td>0</td>\n",
       "      <td>50</td>\n",
       "      <td>0</td>\n",
       "      <td>1</td>\n",
       "      <td>1</td>\n",
       "      <td>0</td>\n",
       "      <td>0</td>\n",
       "      <td>1</td>\n",
       "      <td>14</td>\n",
       "    </tr>\n",
       "    <tr>\n",
       "      <th>61539</th>\n",
       "      <td>0</td>\n",
       "      <td>32</td>\n",
       "      <td>0</td>\n",
       "      <td>0</td>\n",
       "      <td>0</td>\n",
       "      <td>0</td>\n",
       "      <td>0</td>\n",
       "      <td>1</td>\n",
       "      <td>7</td>\n",
       "    </tr>\n",
       "    <tr>\n",
       "      <th>42739</th>\n",
       "      <td>0</td>\n",
       "      <td>15</td>\n",
       "      <td>0</td>\n",
       "      <td>0</td>\n",
       "      <td>0</td>\n",
       "      <td>0</td>\n",
       "      <td>0</td>\n",
       "      <td>0</td>\n",
       "      <td>0</td>\n",
       "    </tr>\n",
       "    <tr>\n",
       "      <th>85880</th>\n",
       "      <td>0</td>\n",
       "      <td>38</td>\n",
       "      <td>0</td>\n",
       "      <td>0</td>\n",
       "      <td>0</td>\n",
       "      <td>0</td>\n",
       "      <td>0</td>\n",
       "      <td>1</td>\n",
       "      <td>17</td>\n",
       "    </tr>\n",
       "    <tr>\n",
       "      <th>...</th>\n",
       "      <td>...</td>\n",
       "      <td>...</td>\n",
       "      <td>...</td>\n",
       "      <td>...</td>\n",
       "      <td>...</td>\n",
       "      <td>...</td>\n",
       "      <td>...</td>\n",
       "      <td>...</td>\n",
       "      <td>...</td>\n",
       "    </tr>\n",
       "    <tr>\n",
       "      <th>30492</th>\n",
       "      <td>1</td>\n",
       "      <td>60</td>\n",
       "      <td>0</td>\n",
       "      <td>0</td>\n",
       "      <td>0</td>\n",
       "      <td>1</td>\n",
       "      <td>0</td>\n",
       "      <td>1</td>\n",
       "      <td>6</td>\n",
       "    </tr>\n",
       "    <tr>\n",
       "      <th>53619</th>\n",
       "      <td>0</td>\n",
       "      <td>14</td>\n",
       "      <td>0</td>\n",
       "      <td>0</td>\n",
       "      <td>0</td>\n",
       "      <td>0</td>\n",
       "      <td>0</td>\n",
       "      <td>0</td>\n",
       "      <td>0</td>\n",
       "    </tr>\n",
       "    <tr>\n",
       "      <th>46099</th>\n",
       "      <td>1</td>\n",
       "      <td>18</td>\n",
       "      <td>0</td>\n",
       "      <td>0</td>\n",
       "      <td>0</td>\n",
       "      <td>0</td>\n",
       "      <td>0</td>\n",
       "      <td>0</td>\n",
       "      <td>0</td>\n",
       "    </tr>\n",
       "    <tr>\n",
       "      <th>4107</th>\n",
       "      <td>1</td>\n",
       "      <td>21</td>\n",
       "      <td>0</td>\n",
       "      <td>0</td>\n",
       "      <td>0</td>\n",
       "      <td>0</td>\n",
       "      <td>0</td>\n",
       "      <td>0</td>\n",
       "      <td>35</td>\n",
       "    </tr>\n",
       "    <tr>\n",
       "      <th>75882</th>\n",
       "      <td>1</td>\n",
       "      <td>45</td>\n",
       "      <td>0</td>\n",
       "      <td>0</td>\n",
       "      <td>0</td>\n",
       "      <td>0</td>\n",
       "      <td>0</td>\n",
       "      <td>0</td>\n",
       "      <td>15</td>\n",
       "    </tr>\n",
       "  </tbody>\n",
       "</table>\n",
       "<p>29907 rows × 9 columns</p>\n",
       "</div>"
      ],
      "text/plain": [
       "        Gender  Age  Scholarship  Hipertension  Diabetes  Alcoholism  Handcap  \\\n",
       "42979        0   85            0             1         1           0        0   \n",
       "102322       0   50            0             1         1           0        0   \n",
       "61539        0   32            0             0         0           0        0   \n",
       "42739        0   15            0             0         0           0        0   \n",
       "85880        0   38            0             0         0           0        0   \n",
       "...        ...  ...          ...           ...       ...         ...      ...   \n",
       "30492        1   60            0             0         0           1        0   \n",
       "53619        0   14            0             0         0           0        0   \n",
       "46099        1   18            0             0         0           0        0   \n",
       "4107         1   21            0             0         0           0        0   \n",
       "75882        1   45            0             0         0           0        0   \n",
       "\n",
       "        SMS_received  DaysBetween  \n",
       "42979              0            0  \n",
       "102322             1           14  \n",
       "61539              1            7  \n",
       "42739              0            0  \n",
       "85880              1           17  \n",
       "...              ...          ...  \n",
       "30492              1            6  \n",
       "53619              0            0  \n",
       "46099              0            0  \n",
       "4107               0           35  \n",
       "75882              0           15  \n",
       "\n",
       "[29907 rows x 9 columns]"
      ]
     },
     "execution_count": 7,
     "metadata": {},
     "output_type": "execute_result"
    }
   ],
   "source": [
    "X_train"
   ]
  },
  {
   "cell_type": "code",
   "execution_count": null,
   "metadata": {},
   "outputs": [],
   "source": [
    "a = pd.DataFrame(X_train.columns)\n",
    "a['fi'] = rfc_clf.feature_importances_\n",
    "a.sort_values(by='fi',ascending=False).iloc[:10]"
   ]
  },
  {
   "cell_type": "code",
   "execution_count": null,
   "metadata": {},
   "outputs": [],
   "source": [
    "pd.DataFrame(y_train)[0].value_counts()"
   ]
  },
  {
   "cell_type": "code",
   "execution_count": null,
   "metadata": {},
   "outputs": [],
   "source": [
    "print('-----------Unbalanced-----------')\n",
    "print(classification_report(y_test,p_test))\n",
    "print('-----------Downsampling-----------')\n",
    "print(classification_report(y_test,p_test_down))\n"
   ]
  },
  {
   "cell_type": "code",
   "execution_count": null,
   "metadata": {},
   "outputs": [],
   "source": [
    "df['No-show']"
   ]
  },
  {
   "cell_type": "code",
   "execution_count": null,
   "metadata": {},
   "outputs": [],
   "source": [
    "import neptune\n",
    "\n",
    "neptune.init('kasiacieslik/sandbox', api_token='eyJhcGlfYWRkcmVzcyI6Imh0dHBzOi8vdWkubmVwdHVuZS5haSIsImFwaV91cmwiOiJodHRwczovL3VpLm5lcHR1bmUuYWkiLCJhcGlfa2V5IjoiYzNhMDBkMTYtN2ZlNy00YTMyLWEzMmQtMWQ3OTk1ZTMwZTQ1In0=')\n",
    "\n",
    "\n",
    "\n"
   ]
  },
  {
   "cell_type": "code",
   "execution_count": null,
   "metadata": {},
   "outputs": [],
   "source": [
    "with neptune.create_experiment():\n",
    "    neptune.send_text(\"costam\",\"costam\")"
   ]
  },
  {
   "cell_type": "code",
   "execution_count": null,
   "metadata": {},
   "outputs": [],
   "source": []
  }
 ],
 "metadata": {
  "kernelspec": {
   "display_name": "Python 3",
   "language": "python",
   "name": "python3"
  },
  "language_info": {
   "codemirror_mode": {
    "name": "ipython",
    "version": 3
   },
   "file_extension": ".py",
   "mimetype": "text/x-python",
   "name": "python",
   "nbconvert_exporter": "python",
   "pygments_lexer": "ipython3",
   "version": "3.7.6"
  }
 },
 "nbformat": 4,
 "nbformat_minor": 4
}
