{
 "cells": [
  {
   "cell_type": "code",
   "execution_count": 1,
   "metadata": {},
   "outputs": [],
   "source": [
    "import pandas as pd\n",
    "import matplotlib.pyplot as plt\n",
    "import numpy as np\n",
    "import seaborn as sns\n",
    "from sklearn import datasets\n",
    "import seaborn as sns\n",
    "from sklearn.model_selection import train_test_split\n",
    "from sklearn.model_selection import StratifiedShuffleSplit\n",
    "import random\n",
    "from sklearn.base import BaseEstimator, TransformerMixin\n",
    "from sklearn.pipeline import Pipeline\n",
    "from sklearn.pipeline import FeatureUnion\n",
    "from sklearn.preprocessing import StandardScaler\n",
    "from sklearn.linear_model import SGDClassifier\n",
    "from sklearn.ensemble import RandomForestClassifier\n",
    "from sklearn.model_selection import cross_val_score\n",
    "from sklearn.metrics import classification_report,accuracy_score\n",
    "from sklearn.utils import resample\n",
    "\n",
    "%matplotlib inline\n",
    "\n",
    "# categorical \n",
    "### binary string to binary number\n",
    "class StringToBinary(BaseEstimator,TransformerMixin):\n",
    "    def __init__(self):\n",
    "        pass \n",
    "    def fit(self,X,y=None):\n",
    "        return self\n",
    "    def transform(self,X,y=None):\n",
    "        for columns in X.columns:\n",
    "            if X[columns].dtype=='object' and len(X[columns].unique())==2:\n",
    "                X[columns] = pd.factorize(X[columns])[0]     \n",
    "        return X\n",
    "### object for a date to datetime and extra feature\n",
    "obj_date_to_datetime = ['ScheduledDay','AppointmentDay']\n",
    "class ObjectToDataTime(BaseEstimator,TransformerMixin):\n",
    "    def __init__(self,obj_date_to_time):\n",
    "        self.obj_date_to_time = obj_date_to_time\n",
    "        pass\n",
    "    def fit(self,X,y=None):\n",
    "        return self\n",
    "    def transform(self,X,y=None):\n",
    "        if self.obj_date_to_time:\n",
    "            for columns in self.obj_date_to_time:\n",
    "                X[columns] = X[columns].apply(pd.to_datetime).dt.normalize()\n",
    "            X['DaysBetween'] = (X['AppointmentDay'] - X['ScheduledDay']).apply(lambda x:x.days) \n",
    "            X = X.drop(obj_date_to_datetime,axis=1)\n",
    "            return X\n",
    "        else:\n",
    "            X = X.drop(obj_date_to_datetime,axis=1)\n",
    "            return X\n",
    "            \n",
    "class DataFrameSelector(BaseEstimator,TransformerMixin):\n",
    "    def __init__(self,attributes_name):\n",
    "        self.attributes_name = attributes_name\n",
    "    def fit(self,X,y=None):\n",
    "        return self\n",
    "    def transform(self,X,y=None):\n",
    "        for columns in self.attributes_name:\n",
    "            return X[columns].values\n",
    "        \n",
    "class Get_Dummies(BaseEstimator,TransformerMixin):\n",
    "    def __init__(self):\n",
    "        pass\n",
    "    def fit(self,X,y=None):\n",
    "        return self\n",
    "    def transform(self,X,y=None):\n",
    "        return pd.get_dummies(X)\n",
    "    \n",
    "\n",
    "\n",
    "obj_date_to_dt=['ScheduledDay','AppointmentDay']\n",
    "cat_pipeline = Pipeline([\n",
    "    ('StringToBinary',StringToBinary()),\n",
    "    ('ObjectToDataTime',ObjectToDataTime(obj_date_to_dt)),\n",
    "    #('GetDummies',Get_Dummies())\n",
    "])\n",
    "\n",
    "#train1 = cat_pipeline.fit_transform(train)\n",
    "#numerical\n",
    "age_range = ['Age']\n",
    "class SmallerAgeRange(BaseEstimator,TransformerMixin):\n",
    "    def __init__(self,age_range):\n",
    "        self.age_range = age_range\n",
    "    def fit(self,X,y=None):\n",
    "        return self\n",
    "    def transform(self,X,y=None):\n",
    "        for col in self.age_range:\n",
    "            X[col][X[col]<0]=0\n",
    "            X[col][X[col]>95]=95\n",
    "        return X\n",
    "    \n",
    "class DropNaN(BaseEstimator,TransformerMixin):\n",
    "    def __init__(self):\n",
    "        pass\n",
    "    def fit(self,X,y=None):\n",
    "        return self\n",
    "    def transform(self,X,y=None):\n",
    "        return pd.DataFrame(X).dropna()\n",
    "\n",
    "pipeline_num = Pipeline([\n",
    "    ('SmallerAgeRange',SmallerAgeRange(age_range))\n",
    "])\n",
    "#train_prep = pipeline_num.fit_transform(train1)"
   ]
  },
  {
   "cell_type": "code",
   "execution_count": 2,
   "metadata": {},
   "outputs": [],
   "source": [
    "df = pd.read_csv('KaggleV2-May-2016.csv')\n",
    "df1 = df.copy()"
   ]
  },
  {
   "cell_type": "code",
   "execution_count": 3,
   "metadata": {},
   "outputs": [
    {
     "data": {
      "text/plain": [
       "PatientId         float64\n",
       "AppointmentID       int64\n",
       "Gender             object\n",
       "ScheduledDay       object\n",
       "AppointmentDay     object\n",
       "Age                 int64\n",
       "Neighbourhood      object\n",
       "Scholarship         int64\n",
       "Hipertension        int64\n",
       "Diabetes            int64\n",
       "Alcoholism          int64\n",
       "Handcap             int64\n",
       "SMS_received        int64\n",
       "No-show            object\n",
       "dtype: object"
      ]
     },
     "execution_count": 3,
     "metadata": {},
     "output_type": "execute_result"
    }
   ],
   "source": [
    "df.dtypes"
   ]
  },
  {
   "cell_type": "code",
   "execution_count": 4,
   "metadata": {},
   "outputs": [
    {
     "data": {
      "text/html": [
       "<div>\n",
       "<style scoped>\n",
       "    .dataframe tbody tr th:only-of-type {\n",
       "        vertical-align: middle;\n",
       "    }\n",
       "\n",
       "    .dataframe tbody tr th {\n",
       "        vertical-align: top;\n",
       "    }\n",
       "\n",
       "    .dataframe thead th {\n",
       "        text-align: right;\n",
       "    }\n",
       "</style>\n",
       "<table border=\"1\" class=\"dataframe\">\n",
       "  <thead>\n",
       "    <tr style=\"text-align: right;\">\n",
       "      <th></th>\n",
       "      <th>PatientId</th>\n",
       "      <th>AppointmentID</th>\n",
       "      <th>Gender</th>\n",
       "      <th>ScheduledDay</th>\n",
       "      <th>AppointmentDay</th>\n",
       "      <th>Age</th>\n",
       "      <th>Neighbourhood</th>\n",
       "      <th>Scholarship</th>\n",
       "      <th>Hipertension</th>\n",
       "      <th>Diabetes</th>\n",
       "      <th>Alcoholism</th>\n",
       "      <th>Handcap</th>\n",
       "      <th>SMS_received</th>\n",
       "      <th>No-show</th>\n",
       "    </tr>\n",
       "  </thead>\n",
       "  <tbody>\n",
       "    <tr>\n",
       "      <td>0</td>\n",
       "      <td>2.987250e+13</td>\n",
       "      <td>5642903</td>\n",
       "      <td>F</td>\n",
       "      <td>2016-04-29T18:38:08Z</td>\n",
       "      <td>2016-04-29T00:00:00Z</td>\n",
       "      <td>62</td>\n",
       "      <td>JARDIM DA PENHA</td>\n",
       "      <td>0</td>\n",
       "      <td>1</td>\n",
       "      <td>0</td>\n",
       "      <td>0</td>\n",
       "      <td>0</td>\n",
       "      <td>0</td>\n",
       "      <td>No</td>\n",
       "    </tr>\n",
       "    <tr>\n",
       "      <td>1</td>\n",
       "      <td>5.589978e+14</td>\n",
       "      <td>5642503</td>\n",
       "      <td>M</td>\n",
       "      <td>2016-04-29T16:08:27Z</td>\n",
       "      <td>2016-04-29T00:00:00Z</td>\n",
       "      <td>56</td>\n",
       "      <td>JARDIM DA PENHA</td>\n",
       "      <td>0</td>\n",
       "      <td>0</td>\n",
       "      <td>0</td>\n",
       "      <td>0</td>\n",
       "      <td>0</td>\n",
       "      <td>0</td>\n",
       "      <td>No</td>\n",
       "    </tr>\n",
       "    <tr>\n",
       "      <td>2</td>\n",
       "      <td>4.262962e+12</td>\n",
       "      <td>5642549</td>\n",
       "      <td>F</td>\n",
       "      <td>2016-04-29T16:19:04Z</td>\n",
       "      <td>2016-04-29T00:00:00Z</td>\n",
       "      <td>62</td>\n",
       "      <td>MATA DA PRAIA</td>\n",
       "      <td>0</td>\n",
       "      <td>0</td>\n",
       "      <td>0</td>\n",
       "      <td>0</td>\n",
       "      <td>0</td>\n",
       "      <td>0</td>\n",
       "      <td>No</td>\n",
       "    </tr>\n",
       "    <tr>\n",
       "      <td>3</td>\n",
       "      <td>8.679512e+11</td>\n",
       "      <td>5642828</td>\n",
       "      <td>F</td>\n",
       "      <td>2016-04-29T17:29:31Z</td>\n",
       "      <td>2016-04-29T00:00:00Z</td>\n",
       "      <td>8</td>\n",
       "      <td>PONTAL DE CAMBURI</td>\n",
       "      <td>0</td>\n",
       "      <td>0</td>\n",
       "      <td>0</td>\n",
       "      <td>0</td>\n",
       "      <td>0</td>\n",
       "      <td>0</td>\n",
       "      <td>No</td>\n",
       "    </tr>\n",
       "    <tr>\n",
       "      <td>4</td>\n",
       "      <td>8.841186e+12</td>\n",
       "      <td>5642494</td>\n",
       "      <td>F</td>\n",
       "      <td>2016-04-29T16:07:23Z</td>\n",
       "      <td>2016-04-29T00:00:00Z</td>\n",
       "      <td>56</td>\n",
       "      <td>JARDIM DA PENHA</td>\n",
       "      <td>0</td>\n",
       "      <td>1</td>\n",
       "      <td>1</td>\n",
       "      <td>0</td>\n",
       "      <td>0</td>\n",
       "      <td>0</td>\n",
       "      <td>No</td>\n",
       "    </tr>\n",
       "  </tbody>\n",
       "</table>\n",
       "</div>"
      ],
      "text/plain": [
       "      PatientId  AppointmentID Gender          ScheduledDay  \\\n",
       "0  2.987250e+13        5642903      F  2016-04-29T18:38:08Z   \n",
       "1  5.589978e+14        5642503      M  2016-04-29T16:08:27Z   \n",
       "2  4.262962e+12        5642549      F  2016-04-29T16:19:04Z   \n",
       "3  8.679512e+11        5642828      F  2016-04-29T17:29:31Z   \n",
       "4  8.841186e+12        5642494      F  2016-04-29T16:07:23Z   \n",
       "\n",
       "         AppointmentDay  Age      Neighbourhood  Scholarship  Hipertension  \\\n",
       "0  2016-04-29T00:00:00Z   62    JARDIM DA PENHA            0             1   \n",
       "1  2016-04-29T00:00:00Z   56    JARDIM DA PENHA            0             0   \n",
       "2  2016-04-29T00:00:00Z   62      MATA DA PRAIA            0             0   \n",
       "3  2016-04-29T00:00:00Z    8  PONTAL DE CAMBURI            0             0   \n",
       "4  2016-04-29T00:00:00Z   56    JARDIM DA PENHA            0             1   \n",
       "\n",
       "   Diabetes  Alcoholism  Handcap  SMS_received No-show  \n",
       "0         0           0        0             0      No  \n",
       "1         0           0        0             0      No  \n",
       "2         0           0        0             0      No  \n",
       "3         0           0        0             0      No  \n",
       "4         1           0        0             0      No  "
      ]
     },
     "execution_count": 4,
     "metadata": {},
     "output_type": "execute_result"
    }
   ],
   "source": [
    "df.head()"
   ]
  },
  {
   "cell_type": "markdown",
   "metadata": {},
   "source": [
    "Summary after Data Visualization\n",
    "- Age less than 0 and more than 100 should be drop\n",
    "- days between where appoitment was earlier than schedule should be drop\n",
    "- Unnamed:0 can be drop\n",
    "- Appoitment ID is unique and can be use in index\n",
    "\n",
    "Data for split \n",
    "- we should avoid that we have the same person in train and test\n",
    "- comparision for diffrent train and test\n"
   ]
  },
  {
   "cell_type": "markdown",
   "metadata": {},
   "source": [
    "# Pipeline"
   ]
  },
  {
   "cell_type": "markdown",
   "metadata": {},
   "source": [
    "# Unbalanced dataset"
   ]
  },
  {
   "cell_type": "code",
   "execution_count": 9,
   "metadata": {},
   "outputs": [],
   "source": [
    "# categorical \n",
    "### binary string to binary number\n",
    "class StringToBinary(BaseEstimator,TransformerMixin):\n",
    "    def __init__(self):\n",
    "        pass \n",
    "    def fit(self,X,y=None):\n",
    "        return self\n",
    "    def transform(self,X,y=None):\n",
    "        for columns in X.columns:\n",
    "            if X[columns].dtype=='object' and len(X[columns].unique())==2:\n",
    "                X[columns] = pd.factorize(X[columns])[0]     \n",
    "        return X\n",
    "### object for a date to datetime and extra feature\n",
    "obj_date_to_datetime = ['ScheduledDay','AppointmentDay']\n",
    "class ObjectToDataTime(BaseEstimator,TransformerMixin):\n",
    "    def __init__(self,obj_date_to_time):\n",
    "        self.obj_date_to_time = obj_date_to_time\n",
    "        pass\n",
    "    def fit(self,X,y=None):\n",
    "        return self\n",
    "    def transform(self,X,y=None):\n",
    "        if self.obj_date_to_time:\n",
    "            for columns in self.obj_date_to_time:\n",
    "                X[columns] = X[columns].apply(pd.to_datetime).dt.normalize()\n",
    "            X['DaysBetween'] = (X['AppointmentDay'] - X['ScheduledDay']).apply(lambda x:x.days) \n",
    "            X = X.drop(obj_date_to_datetime,axis=1)\n",
    "            return X\n",
    "        else:\n",
    "            X = X.drop(obj_date_to_datetime,axis=1)\n",
    "            return X\n",
    "            \n",
    "class DataFrameSelector(BaseEstimator,TransformerMixin):\n",
    "    def __init__(self,attributes_name):\n",
    "        self.attributes_name = attributes_name\n",
    "    def fit(self,X,y=None):\n",
    "        return self\n",
    "    def transform(self,X,y=None):\n",
    "        for columns in self.attributes_name:\n",
    "            return X[columns].values\n",
    "        \n",
    "class Get_Dummies(BaseEstimator,TransformerMixin):\n",
    "    def __init__(self):\n",
    "        pass\n",
    "    def fit(self,X,y=None):\n",
    "        return self\n",
    "    def transform(self,X,y=None):\n",
    "        return pd.get_dummies(X)\n",
    "    \n",
    "\n",
    "\n",
    "obj_date_to_dt=['ScheduledDay','AppointmentDay']\n",
    "cat_pipeline = Pipeline([\n",
    "    ('StringToBinary',StringToBinary()),\n",
    "    ('ObjectToDataTime',ObjectToDataTime(obj_date_to_dt)),\n",
    "    #('GetDummies',Get_Dummies())\n",
    "])\n",
    "\n",
    "#train1 = cat_pipeline.fit_transform(train)\n",
    "#numerical\n",
    "age_range = ['Age']\n",
    "class SmallerAgeRange(BaseEstimator,TransformerMixin):\n",
    "    def __init__(self,age_range):\n",
    "        self.age_range = age_range\n",
    "    def fit(self,X,y=None):\n",
    "        return self\n",
    "    def transform(self,X,y=None):\n",
    "        for col in self.age_range:\n",
    "            X[col][X[col]<0]=0\n",
    "            X[col][X[col]>95]=95\n",
    "        return X\n",
    "    \n",
    "class DropNaN(BaseEstimator,TransformerMixin):\n",
    "    def __init__(self):\n",
    "        pass\n",
    "    def fit(self,X,y=None):\n",
    "        return self\n",
    "    def transform(self,X,y=None):\n",
    "        return pd.DataFrame(X).dropna()\n",
    "\n",
    "pipeline_num = Pipeline([\n",
    "    ('SmallerAgeRange',SmallerAgeRange(age_range))\n",
    "])\n",
    "#train_prep = pipeline_num.fit_transform(train1)"
   ]
  },
  {
   "cell_type": "markdown",
   "metadata": {},
   "source": [
    "#### Accuracy is not good choose for skewed data and for classification"
   ]
  },
  {
   "cell_type": "code",
   "execution_count": null,
   "metadata": {},
   "outputs": [],
   "source": [
    "#rfc_clf.fit(train_prep.values,y_train)\n",
    "#p = rfc_clf.predict(train_prep.values)\n",
    "\n",
    "a = pd.DataFrame(train_prep.columns)\n",
    "a['fi'] = rfc_clf.feature_importances_\n",
    "a.sort_values(by='fi',ascending=False).iloc[:10]\n"
   ]
  },
  {
   "cell_type": "markdown",
   "metadata": {},
   "source": [
    "### Split to train/test before downsampling/ upsamplin"
   ]
  },
  {
   "cell_type": "code",
   "execution_count": 21,
   "metadata": {},
   "outputs": [
    {
     "name": "stdout",
     "output_type": "stream",
     "text": [
      "X Train set with attributes has 74053 rows and Test set has 36474 rows\n"
     ]
    },
    {
     "name": "stderr",
     "output_type": "stream",
     "text": [
      "C:\\ProgramData\\Anaconda3\\lib\\site-packages\\ipykernel_launcher.py:89: SettingWithCopyWarning: \n",
      "A value is trying to be set on a copy of a slice from a DataFrame\n",
      "\n",
      "See the caveats in the documentation: http://pandas.pydata.org/pandas-docs/stable/user_guide/indexing.html#returning-a-view-versus-a-copy\n",
      "C:\\ProgramData\\Anaconda3\\lib\\site-packages\\ipykernel_launcher.py:90: SettingWithCopyWarning: \n",
      "A value is trying to be set on a copy of a slice from a DataFrame\n",
      "\n",
      "See the caveats in the documentation: http://pandas.pydata.org/pandas-docs/stable/user_guide/indexing.html#returning-a-view-versus-a-copy\n"
     ]
    }
   ],
   "source": [
    "np.random.seed(40)\n",
    "\n",
    "train, test  = train_test_split(df,test_size=0.33,random_state=42)\n",
    "print(f'X Train set with attributes has {train.shape[0]} rows and Test set has {test.shape[0]} rows')\n",
    "\n",
    "#Train\n",
    "y_train = train['No-show']\n",
    "X_train = train.drop('No-show',axis=1)\n",
    "# categorical & numerical pipeline on train\n",
    "train_prep = cat_pipeline.fit_transform(X_train)\n",
    "train_prep = pipeline_num.fit_transform(train_prep)\n",
    "y_train = pd.factorize(y_train)[0]\n",
    "\n",
    "train_prep = train_prep.drop(['PatientId','AppointmentID','Neighbourhood'],axis=1)\n",
    "\n",
    "\n",
    "#Test\n",
    "y_test = test['No-show']\n",
    "X_test = test.drop('No-show',axis=1)\n",
    "# categorical & numerical pipeline on train\n",
    "test_prep = cat_pipeline.transform(X_test)\n",
    "test_prep = pipeline_num.transform(test_prep)\n",
    "y_test = pd.factorize(y_test)[0]\n",
    "test_prep = test_prep.drop(['PatientId','AppointmentID','Neighbourhood'],axis=1)\n"
   ]
  },
  {
   "cell_type": "markdown",
   "metadata": {},
   "source": [
    "### First model without up/downsampling"
   ]
  },
  {
   "cell_type": "code",
   "execution_count": 8,
   "metadata": {},
   "outputs": [
    {
     "name": "stdout",
     "output_type": "stream",
     "text": [
      "              precision    recall  f1-score   support\n",
      "\n",
      "           0       0.88      0.97      0.93     59033\n",
      "           1       0.82      0.49      0.61     15020\n",
      "\n",
      "    accuracy                           0.87     74053\n",
      "   macro avg       0.85      0.73      0.77     74053\n",
      "weighted avg       0.87      0.87      0.86     74053\n",
      "\n",
      "              precision    recall  f1-score   support\n",
      "\n",
      "           0       0.82      0.91      0.86     29175\n",
      "           1       0.34      0.19      0.25      7299\n",
      "\n",
      "    accuracy                           0.76     36474\n",
      "   macro avg       0.58      0.55      0.55     36474\n",
      "weighted avg       0.72      0.76      0.74     36474\n",
      "\n"
     ]
    }
   ],
   "source": [
    "rfc_clf = RandomForestClassifier()\n",
    "\n",
    "rfc_clf.fit(train_prep.values,y_train)\n",
    "p = rfc_clf.predict(train_prep.values)\n",
    "print(classification_report(y_train,p))\n",
    "\n",
    "p_test = rfc_clf.predict(test_prep)\n",
    "print(classification_report(y_test,p_test))"
   ]
  },
  {
   "cell_type": "markdown",
   "metadata": {},
   "source": [
    "## Dataset downsampling"
   ]
  },
  {
   "cell_type": "code",
   "execution_count": 9,
   "metadata": {},
   "outputs": [
    {
     "name": "stdout",
     "output_type": "stream",
     "text": [
      "\"No\"/\"Yes\"-Ratio is equal to 3.95/1.0\n"
     ]
    },
    {
     "data": {
      "text/plain": [
       "No     88208\n",
       "Yes    22319\n",
       "Name: No-show, dtype: int64"
      ]
     },
     "execution_count": 9,
     "metadata": {},
     "output_type": "execute_result"
    }
   ],
   "source": [
    "#Check if our dataset is balanced or not\n",
    "ratio = df['No-show'].value_counts()/df['No-show'].value_counts()[1]\n",
    "print('\"No\"/\"Yes\"-Ratio is equal to {}/{}'.format(round(ratio[0],2),ratio[1]))\n",
    "# here we can see that we have much more 'No' than 'Yes'"
   ]
  },
  {
   "cell_type": "code",
   "execution_count": 23,
   "metadata": {
    "scrolled": true
   },
   "outputs": [
    {
     "name": "stderr",
     "output_type": "stream",
     "text": [
      "C:\\ProgramData\\Anaconda3\\lib\\site-packages\\ipykernel_launcher.py:89: SettingWithCopyWarning: \n",
      "A value is trying to be set on a copy of a slice from a DataFrame\n",
      "\n",
      "See the caveats in the documentation: http://pandas.pydata.org/pandas-docs/stable/user_guide/indexing.html#returning-a-view-versus-a-copy\n",
      "C:\\ProgramData\\Anaconda3\\lib\\site-packages\\ipykernel_launcher.py:90: SettingWithCopyWarning: \n",
      "A value is trying to be set on a copy of a slice from a DataFrame\n",
      "\n",
      "See the caveats in the documentation: http://pandas.pydata.org/pandas-docs/stable/user_guide/indexing.html#returning-a-view-versus-a-copy\n"
     ]
    },
    {
     "name": "stdout",
     "output_type": "stream",
     "text": [
      "              precision    recall  f1-score   support\n",
      "\n",
      "           0       0.85      0.84      0.84     15020\n",
      "           1       0.84      0.85      0.85     15020\n",
      "\n",
      "    accuracy                           0.85     30040\n",
      "   macro avg       0.85      0.85      0.85     30040\n",
      "weighted avg       0.85      0.85      0.85     30040\n",
      "\n",
      "0.8451065246338215\n",
      "              precision    recall  f1-score   support\n",
      "\n",
      "           0       0.70      0.38      0.49     29175\n",
      "           1       0.12      0.35      0.18      7299\n",
      "\n",
      "    accuracy                           0.37     36474\n",
      "   macro avg       0.41      0.37      0.34     36474\n",
      "weighted avg       0.59      0.37      0.43     36474\n",
      "\n"
     ]
    },
    {
     "data": {
      "image/png": "[encoded data removed]",
      "text/plain": [
       "<Figure size 432x288 with 1 Axes>"
      ]
     },
     "metadata": {
      "needs_background": "light"
     },
     "output_type": "display_data"
    }
   ],
   "source": [
    "#Model\n",
    "rfc_clf = RandomForestClassifier()\n",
    "np.random.seed(40)\n",
    "\n",
    "# I will take whole dataset to do down-sampling. After that I will do train and test set\n",
    "\n",
    "# Separate majority and minority classes\n",
    "train_majority = train[train['No-show']=='No']\n",
    "train_minority = train[train['No-show']=='Yes']\n",
    " \n",
    "# Downsample minority class\n",
    "train_D_majority = resample(train_majority, \n",
    "                                 replace=False,     # sample with replacement\n",
    "                                 n_samples=15020,    # to match majority class\n",
    "                                 random_state=42) # reproducible results\n",
    " \n",
    "# Combine majority class with upsampled minority class\n",
    "train_D = pd.concat([train_minority, train_D_majority])\n",
    " \n",
    "# Display new class counts\n",
    "train_D['No-show'].value_counts().plot(kind='bar')\n",
    "\n",
    "\n",
    "#Divide X and y\n",
    "y_train_D = train_D['No-show']\n",
    "X_train_D = train_D.drop('No-show',axis=1)\n",
    "\n",
    "#Pipeline for Train\n",
    "train_prep_down = cat_pipeline.fit_transform(X_train_D)\n",
    "train_prep_down = pipeline_num.fit_transform(train_prep_down)\n",
    "y_train_down = pd.factorize(y_train_D)\n",
    "y_train_down = y_train_down[0]\n",
    "train_prep_down = train_prep_down.drop(['PatientId','AppointmentID','Neighbourhood'],axis=1)\n",
    "\n",
    "rfc_clf.fit(train_prep_down.values,y_train_down)\n",
    "p_down = rfc_clf.predict(train_prep_down.values)\n",
    "print(classification_report(y_train_down,p_down))\n",
    "\n",
    "# How's our accuracy?\n",
    "print( accuracy_score(y_train_down,p_down) )\n",
    "\n",
    "p_test_down = rfc_clf.predict(test_prep)\n",
    "print(classification_report(y_test,p_test_down))"
   ]
  },
  {
   "cell_type": "markdown",
   "metadata": {},
   "source": [
    "## Upsampling"
   ]
  },
  {
   "cell_type": "code",
   "execution_count": 24,
   "metadata": {},
   "outputs": [
    {
     "name": "stderr",
     "output_type": "stream",
     "text": [
      "C:\\ProgramData\\Anaconda3\\lib\\site-packages\\ipykernel_launcher.py:89: SettingWithCopyWarning: \n",
      "A value is trying to be set on a copy of a slice from a DataFrame\n",
      "\n",
      "See the caveats in the documentation: http://pandas.pydata.org/pandas-docs/stable/user_guide/indexing.html#returning-a-view-versus-a-copy\n",
      "C:\\ProgramData\\Anaconda3\\lib\\site-packages\\ipykernel_launcher.py:90: SettingWithCopyWarning: \n",
      "A value is trying to be set on a copy of a slice from a DataFrame\n",
      "\n",
      "See the caveats in the documentation: http://pandas.pydata.org/pandas-docs/stable/user_guide/indexing.html#returning-a-view-versus-a-copy\n"
     ]
    },
    {
     "name": "stdout",
     "output_type": "stream",
     "text": [
      "              precision    recall  f1-score   support\n",
      "\n",
      "           0       0.87      0.79      0.83     59033\n",
      "           1       0.81      0.88      0.84     59033\n",
      "\n",
      "    accuracy                           0.84    118066\n",
      "   macro avg       0.84      0.84      0.83    118066\n",
      "weighted avg       0.84      0.84      0.83    118066\n",
      "\n",
      "[0 1]\n",
      "0.8351345857401792\n",
      "              precision    recall  f1-score   support\n",
      "\n",
      "           0       0.85      0.72      0.78     29175\n",
      "           1       0.30      0.48      0.37      7299\n",
      "\n",
      "    accuracy                           0.67     36474\n",
      "   macro avg       0.57      0.60      0.57     36474\n",
      "weighted avg       0.74      0.67      0.70     36474\n",
      "\n"
     ]
    },
    {
     "data": {
      "image/png": "[encoded data removed]",
      "text/plain": [
       "<Figure size 432x288 with 1 Axes>"
      ]
     },
     "metadata": {
      "needs_background": "light"
     },
     "output_type": "display_data"
    }
   ],
   "source": [
    "# Downsample minority class\n",
    "train_U_minority = resample(train_minority, \n",
    "                                 replace=True,     # sample with replacement\n",
    "                                 n_samples=59033,    # to match majority class\n",
    "                                 random_state=42) # reproducible results\n",
    " \n",
    "# Combine majority class with upsampled minority class\n",
    "train_U = pd.concat([train_majority, train_U_minority])\n",
    " \n",
    "# Display new class counts\n",
    "train_U['No-show'].value_counts().plot(kind='bar')\n",
    "\n",
    "\n",
    "#Divide X and y\n",
    "y_train_U = train_U['No-show']\n",
    "X_train_U = train_U.drop('No-show',axis=1)\n",
    "#Pipeline for Train\n",
    "\n",
    "\n",
    "train_prep_up = cat_pipeline.fit_transform(X_train_U)\n",
    "train_prep_up = pipeline_num.fit_transform(train_prep_up)\n",
    "y_train_up = pd.factorize(y_train_U)\n",
    "y_train_up = y_train_up[0]\n",
    "train_prep_up = train_prep_up.drop(['PatientId','AppointmentID','Neighbourhood'],axis=1)\n",
    "\n",
    "rfc_clf.fit(train_prep_up.values,y_train_up)\n",
    "p_up = rfc_clf.predict(train_prep_up.values)\n",
    "print(classification_report(y_train_up,p_up))\n",
    "\n",
    "print( np.unique( p_up ) )\n",
    "# [0 1]\n",
    " \n",
    "# How's our accuracy?\n",
    "print( accuracy_score(y_train_up,p_up) )\n",
    "\n",
    "\n",
    "p_test_up = rfc_clf.predict(test_prep)\n",
    "print(classification_report(y_test,p_test_up))"
   ]
  },
  {
   "cell_type": "code",
   "execution_count": 26,
   "metadata": {},
   "outputs": [
    {
     "name": "stdout",
     "output_type": "stream",
     "text": [
      "-----------Unbalanced-----------\n",
      "              precision    recall  f1-score   support\n",
      "\n",
      "           0       0.82      0.91      0.86     29175\n",
      "           1       0.34      0.19      0.25      7299\n",
      "\n",
      "    accuracy                           0.76     36474\n",
      "   macro avg       0.58      0.55      0.55     36474\n",
      "weighted avg       0.72      0.76      0.74     36474\n",
      "\n",
      "-----------Downsampling-----------\n",
      "              precision    recall  f1-score   support\n",
      "\n",
      "           0       0.70      0.38      0.49     29175\n",
      "           1       0.12      0.35      0.18      7299\n",
      "\n",
      "    accuracy                           0.37     36474\n",
      "   macro avg       0.41      0.37      0.34     36474\n",
      "weighted avg       0.59      0.37      0.43     36474\n",
      "\n",
      "-----------Upsampling-----------\n",
      "              precision    recall  f1-score   support\n",
      "\n",
      "           0       0.85      0.72      0.78     29175\n",
      "           1       0.30      0.48      0.37      7299\n",
      "\n",
      "    accuracy                           0.67     36474\n",
      "   macro avg       0.57      0.60      0.57     36474\n",
      "weighted avg       0.74      0.67      0.70     36474\n",
      "\n"
     ]
    }
   ],
   "source": [
    "print('-----------Unbalanced-----------')\n",
    "print(classification_report(y_test,p_test))\n",
    "print('-----------Downsampling-----------')\n",
    "print(classification_report(y_test,p_test_down))\n",
    "print('-----------Upsampling-----------')\n",
    "print(classification_report(y_test,p_test_up))"
   ]
  }
 ],
 "metadata": {
  "kernelspec": {
   "display_name": "Python 3",
   "language": "python",
   "name": "python3"
  },
  "language_info": {
   "codemirror_mode": {
    "name": "ipython",
    "version": 3
   },
   "file_extension": ".py",
   "mimetype": "text/x-python",
   "name": "python",
   "nbconvert_exporter": "python",
   "pygments_lexer": "ipython3",
   "version": "3.7.4"
  }
 },
 "nbformat": 4,
 "nbformat_minor": 2
}
