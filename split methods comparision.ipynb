{
 "cells": [
  {
   "cell_type": "code",
   "execution_count": 1,
   "metadata": {},
   "outputs": [],
   "source": [
    "import pandas as pd\n",
    "import matplotlib.pyplot as plt\n",
    "import numpy as np\n",
    "import seaborn as sns\n",
    "from sklearn import datasets\n",
    "import seaborn as sns\n",
    "from sklearn.model_selection import train_test_split\n",
    "from sklearn.model_selection import StratifiedShuffleSplit\n",
    "import random\n",
    "from sklearn.base import BaseEstimator, TransformerMixin\n",
    "from sklearn.pipeline import Pipeline\n",
    "from sklearn.pipeline import FeatureUnion\n",
    "from sklearn.preprocessing import StandardScaler\n",
    "from sklearn.linear_model import SGDClassifier\n",
    "from sklearn.ensemble import RandomForestClassifier\n",
    "from sklearn.model_selection import cross_val_score\n",
    "from sklearn.metrics import classification_report,accuracy_score\n",
    "from sklearn.utils import resample\n",
    "\n",
    "%matplotlib inline"
   ]
  },
  {
   "cell_type": "code",
   "execution_count": 2,
   "metadata": {},
   "outputs": [],
   "source": [
    "df = pd.read_csv('KaggleV2-May-2016.csv')"
   ]
  },
  {
   "cell_type": "markdown",
   "metadata": {},
   "source": [
    "### whole set"
   ]
  },
  {
   "cell_type": "code",
   "execution_count": 3,
   "metadata": {},
   "outputs": [
    {
     "name": "stdout",
     "output_type": "stream",
     "text": [
      "Train set with attributes has 74053 rows and Test set has 36474 rows\n"
     ]
    }
   ],
   "source": [
    "X_train, X_test  = train_test_split(df,test_size=0.33,random_state=42)\n",
    "print(f'Train set with attributes has {X_train.shape[0]} rows and Test set has {X_test.shape[0]} rows')"
   ]
  },
  {
   "cell_type": "markdown",
   "metadata": {},
   "source": [
    "### target set balance"
   ]
  },
  {
   "cell_type": "code",
   "execution_count": 4,
   "metadata": {},
   "outputs": [],
   "source": [
    "percent_YES_train = X_train['No-show'].value_counts()[1]/X_train['No-show'].value_counts().sum()\n",
    "percent_YES_test = X_test['No-show'].value_counts()[1]/X_test['No-show'].value_counts().sum()\n",
    "#print('We have ca. 20% YES and 80% NO in both sets')"
   ]
  },
  {
   "cell_type": "markdown",
   "metadata": {},
   "source": [
    "### gander balanced sets"
   ]
  },
  {
   "cell_type": "code",
   "execution_count": 6,
   "metadata": {},
   "outputs": [
    {
     "name": "stdout",
     "output_type": "stream",
     "text": [
      "Our train and test sets with attributes have 65% woman in both of them\n"
     ]
    },
    {
     "data": {
      "text/plain": [
       "F    65.0\n",
       "M    35.0\n",
       "Name: Gender, dtype: float64"
      ]
     },
     "execution_count": 6,
     "metadata": {},
     "output_type": "execute_result"
    }
   ],
   "source": [
    "X_train.Gender.value_counts()\n",
    "percent_Woman_train = round(X_train.Gender.value_counts()/X_train.Gender.value_counts().sum()*100)\n",
    "percent_Woman_test = round(X_test.Gender.value_counts()/X_test.Gender.value_counts().sum()*100)\n",
    "\n",
    "print('Our train and test sets with attributes have 65% woman in both of them')\n",
    "percent_Woman_train "
   ]
  },
  {
   "cell_type": "markdown",
   "metadata": {},
   "source": [
    "## stratified suffle split "
   ]
  },
  {
   "cell_type": "code",
   "execution_count": 9,
   "metadata": {},
   "outputs": [],
   "source": [
    "df_without_target = df.drop('No-show',axis=1)\n",
    "target = df['No-show']\n",
    "split = StratifiedShuffleSplit(n_splits=1,test_size=0.2,random_state=42)\n",
    "\n",
    "for train_index,test_index in split.split(df_without_target,target):\n",
    "    #print(\"TRAIN:\", train_index, \"TEST:\", test_index)\n",
    "    X_train_s, X_test_s = df.iloc[train_index], df.iloc[test_index]\n",
    "    y_train_s, y_test_s = target[train_index], target[test_index]"
   ]
  },
  {
   "cell_type": "markdown",
   "metadata": {},
   "source": [
    "## unique patients in train and test"
   ]
  },
  {
   "cell_type": "code",
   "execution_count": 10,
   "metadata": {},
   "outputs": [
    {
     "name": "stdout",
     "output_type": "stream",
     "text": [
      "[2.98724998e+13 5.58997777e+14 4.26296230e+12 ... 7.26331493e+13\n",
      " 9.96997666e+14 1.55766317e+13]\n",
      "[2.42447297e+13 9.76948596e+11 2.66868977e+12 ... 4.26275768e+13\n",
      " 7.72542249e+12 5.97675484e+14]\n"
     ]
    }
   ],
   "source": [
    "patient_list = df.PatientId.unique()\n",
    "print(patient_list)\n",
    "random.seed(42)\n",
    "np.random.shuffle(patient_list)\n",
    "\n",
    "print(patient_list)\n",
    "\n",
    "size_of_test = round(len(patient_list)*0.25)\n",
    "size_of_train = round(len(patient_list)*0.75)\n",
    "\n",
    "patient_train = patient_list[15575:]\n",
    "patient_test =  patient_list[:15575]\n",
    "\n",
    "train = df[df['PatientId'].isin(patient_train)]\n",
    "test = df[df['PatientId'].isin(patient_test)]\n"
   ]
  },
  {
   "cell_type": "markdown",
   "metadata": {},
   "source": [
    "### train-test split comparision"
   ]
  },
  {
   "cell_type": "code",
   "execution_count": 15,
   "metadata": {},
   "outputs": [
    {
     "data": {
      "text/html": [
       "<div>\n",
       "<style scoped>\n",
       "    .dataframe tbody tr th:only-of-type {\n",
       "        vertical-align: middle;\n",
       "    }\n",
       "\n",
       "    .dataframe tbody tr th {\n",
       "        vertical-align: top;\n",
       "    }\n",
       "\n",
       "    .dataframe thead th {\n",
       "        text-align: right;\n",
       "    }\n",
       "</style>\n",
       "<table border=\"1\" class=\"dataframe\">\n",
       "  <thead>\n",
       "    <tr style=\"text-align: right;\">\n",
       "      <th></th>\n",
       "      <th>target_oberall</th>\n",
       "      <th>train_test_split_target_TRAIN</th>\n",
       "      <th>train_test_split_target_TEST</th>\n",
       "      <th>StratifiedShufflesplit_target_TRAIN</th>\n",
       "      <th>StratifiedShufflesplit-taget_TEST</th>\n",
       "      <th>UniquePatients_TRAIN</th>\n",
       "      <th>UniquePatients_TEST</th>\n",
       "    </tr>\n",
       "  </thead>\n",
       "  <tbody>\n",
       "    <tr>\n",
       "      <td>No</td>\n",
       "      <td>0.798067</td>\n",
       "      <td>0.797172</td>\n",
       "      <td>0.799885</td>\n",
       "      <td>0.798068</td>\n",
       "      <td>0.798064</td>\n",
       "      <td>0.797856</td>\n",
       "      <td>0.798701</td>\n",
       "    </tr>\n",
       "    <tr>\n",
       "      <td>Yes</td>\n",
       "      <td>0.201933</td>\n",
       "      <td>0.202828</td>\n",
       "      <td>0.200115</td>\n",
       "      <td>0.201932</td>\n",
       "      <td>0.201936</td>\n",
       "      <td>0.202144</td>\n",
       "      <td>0.201299</td>\n",
       "    </tr>\n",
       "  </tbody>\n",
       "</table>\n",
       "</div>"
      ],
      "text/plain": [
       "     target_oberall  train_test_split_target_TRAIN  \\\n",
       "No         0.798067                       0.797172   \n",
       "Yes        0.201933                       0.202828   \n",
       "\n",
       "     train_test_split_target_TEST  StratifiedShufflesplit_target_TRAIN  \\\n",
       "No                       0.799885                             0.798068   \n",
       "Yes                      0.200115                             0.201932   \n",
       "\n",
       "     StratifiedShufflesplit-taget_TEST  UniquePatients_TRAIN  \\\n",
       "No                            0.798064              0.797856   \n",
       "Yes                           0.201936              0.202144   \n",
       "\n",
       "     UniquePatients_TEST  \n",
       "No              0.798701  \n",
       "Yes             0.201299  "
      ]
     },
     "execution_count": 15,
     "metadata": {},
     "output_type": "execute_result"
    }
   ],
   "source": [
    "sampling_bias_comparision = pd.DataFrame()\n",
    "whole_set_gender = df.Gender.value_counts()/len(df)\n",
    "sampling_bias_comparision['overall_gender'] = whole_set_gender\n",
    "\n",
    "sampling_bias_comparision_target = pd.DataFrame()\n",
    "sampling_bias_comparision_target['target_oberall'] = target.value_counts()/len(target)\n",
    "\n",
    "sampling_bias_comparision['train_test_split_gender_TRAIN'] = X_train.Gender.value_counts()/len(X_train)\n",
    "sampling_bias_comparision['train_test_split_gender_TEST'] = X_test.Gender.value_counts()/len(X_test)\n",
    "\n",
    "sampling_bias_comparision_target['train_test_split_target_TRAIN'] = X_train['No-show'].value_counts()/len(X_train['No-show'])\n",
    "sampling_bias_comparision_target['train_test_split_target_TEST'] = X_test['No-show'].value_counts()/len(X_test['No-show'])\n",
    "\n",
    "\n",
    "\n",
    "sampling_bias_comparision['StratifiedShufflesplit_TRAIN'] = X_train_s.Gender.value_counts()/len(X_train_s)\n",
    "sampling_bias_comparision['StratifiedShufflesplit_TEST'] = X_test_s.Gender.value_counts()/len(X_test_s)\n",
    "\n",
    "sampling_bias_comparision_target['StratifiedShufflesplit_target_TRAIN'] = y_train_s.value_counts()/len(y_train_s)\n",
    "sampling_bias_comparision_target['StratifiedShufflesplit-taget_TEST'] = y_test_s.value_counts()/len(y_test_s)\n",
    "\n",
    "sampling_bias_comparision_target['UniquePatients_TRAIN'] = train['No-show'].value_counts()/len(train)\n",
    "sampling_bias_comparision_target['UniquePatients_TEST'] = test['No-show'].value_counts()/len(test)\n",
    "\n",
    "sampling_bias_comparision_target"
   ]
  },
  {
   "cell_type": "code",
   "execution_count": null,
   "metadata": {},
   "outputs": [],
   "source": []
  }
 ],
 "metadata": {
  "kernelspec": {
   "display_name": "Python 3",
   "language": "python",
   "name": "python3"
  },
  "language_info": {
   "codemirror_mode": {
    "name": "ipython",
    "version": 3
   },
   "file_extension": ".py",
   "mimetype": "text/x-python",
   "name": "python",
   "nbconvert_exporter": "python",
   "pygments_lexer": "ipython3",
   "version": "3.7.4"
  }
 },
 "nbformat": 4,
 "nbformat_minor": 2
}
